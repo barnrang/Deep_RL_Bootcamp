{
 "cells": [
  {
   "cell_type": "code",
   "execution_count": 1,
   "metadata": {},
   "outputs": [],
   "source": [
    "\"\"\"\n",
    "This project was developed by Peter Chen, Rocky Duan, Pieter Abbeel for the Berkeley Deep RL Bootcamp, August 2017.\n",
    "Bootcamp website with slides and lecture videos: https://sites.google.com/view/deep-rl-bootcamp/.\n",
    "\n",
    "Code adapted from Stanford CS231N materials: http://cs231n.stanford.edu/\n",
    "\"\"\"\n",
    "\n",
    "\n",
    "# note to properly run this lab, you should execute all code blocks sequentially\n",
    "import chainer\n",
    "import chainer.functions as F\n",
    "import chainer.links as L\n",
    "from chainer import training\n",
    "from chainer.training import extensions\n",
    "\n",
    "from collections import namedtuple, defaultdict, deque\n",
    "\n",
    "import numpy as np\n",
    "\n",
    "%matplotlib inline\n",
    "\n",
    "import matplotlib\n",
    "import matplotlib.pyplot as plt"
   ]
  },
  {
   "cell_type": "markdown",
   "metadata": {},
   "source": [
    "## Introduction to Chainer\n",
    "\n",
    "Chainer can be understood as Numpy plus the ability to record the computation graph of numerical operations to enable Automatic Differentiation. (Chainer actually also offers many other things; for example, a Numpy equivalent library that runs on GPU, but we will ignore them for now)"
   ]
  },
  {
   "cell_type": "markdown",
   "metadata": {},
   "source": [
    "Let's illustrate how Chainer works by a simple 1D regression task.\n",
    "\n",
    "Suppose we have observations from the following model $y = w x + b + \\epsilon$ where $\\epsilon \\sim \\mathcal{N}(0, 0.1)$ and the task is to estimate the linear model parameters $w, b$ from data."
   ]
  },
  {
   "cell_type": "code",
   "execution_count": 2,
   "metadata": {},
   "outputs": [
    {
     "data": {
      "image/png": "[encoded data removed]",
      "text/plain": [
       "<Figure size 432x288 with 1 Axes>"
      ]
     },
     "metadata": {},
     "output_type": "display_data"
    }
   ],
   "source": [
    "# first generate some observations\n",
    "true_a = 1.3\n",
    "true_b = 0.4\n",
    "data_x = (np.arange(100) / 99.0 - .5).astype(np.float32) # Chainer assumes all the cpu computation is done in float32\n",
    "data_y = (data_x * true_a + true_b + np.random.randn(*data_x.shape) * 0.1).astype(np.float32)\n",
    "_ = plt.scatter(data_x, data_y, c='b')"
   ]
  },
  {
   "cell_type": "markdown",
   "metadata": {},
   "source": [
    "Chainer provides an abstraction called `Link` that describe some computation and keeps track of parameters for it. For instance, a `Linear` link describes a linear map on input and keeps track of `w` and bias `b`."
   ]
  },
  {
   "cell_type": "code",
   "execution_count": 3,
   "metadata": {},
   "outputs": [
    {
     "name": "stdout",
     "output_type": "stream",
     "text": [
      "w: variable W([[ 0.58060211]])\n",
      "b: variable b([ 0.])\n",
      "Operations on chainer.Variable: variable([[ 123.58060455]]), type: <class 'chainer.variable.Variable'>\n",
      "numpy arrays: [[ 0.58060211]] [[ 123.58060455]]\n"
     ]
    }
   ],
   "source": [
    "model = L.Linear(in_size=1, out_size=1) # input is 1D data and output is also 1D data\n",
    "\n",
    "# Chainer will randomly initialize `w` and `b` for us.\n",
    "# we can take a look at their values\n",
    "print(\"w:\", model.W)\n",
    "print(\"b:\", model.b)\n",
    "\n",
    "# model.W and model.b have type `chainer.Variable`, \n",
    "#   which is a wrapper around Numpy array\n",
    "assert isinstance(model.W, chainer.Variable)\n",
    "\n",
    "# operations that involve `chainer.Variable` will produce\n",
    "#   `chainer.Variable` and this records the computation graph\n",
    "var_result = model.W + 123 # some random computation\n",
    "print(\"Operations on chainer.Variable: %s, type: %s\" % (var_result, type(var_result)))\n",
    "\n",
    "# the underlying numpy array can be accessed by `data` attribute\n",
    "print(\"numpy arrays:\", model.W.data, var_result.data)"
   ]
  },
  {
   "cell_type": "code",
   "execution_count": 4,
   "metadata": {},
   "outputs": [
    {
     "data": {
      "image/png": "[encoded data removed]",
      "text/plain": [
       "<Figure size 432x288 with 1 Axes>"
      ]
     },
     "metadata": {},
     "output_type": "display_data"
    }
   ],
   "source": [
    "# A chainer link is a callable object. calling it performs the\n",
    "#   forward computation. (in this case, it performs Wx + b)\n",
    "model_y = model(data_x[:, None]) # chainer's link usually assumes input is [Batch Size, Input Dimension]\n",
    "# `model_y` is a chainer variable so we use `.data` to access its numpy array for plotting\n",
    "\n",
    "# we can plot the model's current fit in red. it should be terrible because we haven't trained it yet\n",
    "_ = plt.plot(data_x, model_y.data[:,0], c='r')\n",
    "_ = plt.scatter(data_x, data_y, c='b')\n",
    "_ = plt.title(\"Initial model\")"
   ]
  },
  {
   "cell_type": "code",
   "execution_count": 9,
   "metadata": {},
   "outputs": [
    {
     "name": "stdout",
     "output_type": "stream",
     "text": [
      "loss variable(1.1088969707489014)\n",
      "dloss/dW [[-0.56439817]]\n"
     ]
    }
   ],
   "source": [
    "# now let's walk through how to perform forward computation\n",
    "#  and use AD to get gradients\n",
    "\n",
    "# first we clear the gradients that are stored in the model\n",
    "model.cleargrads()\n",
    "# as we have seen we can perform forward computation by calling the link\n",
    "model_y = model(data_x[:, None])\n",
    "\n",
    "# remember that `model_y` is a chainer variable. to operate on chainer variable\n",
    "#    we will use functions from chainer.functions to operate on those objects.\n",
    "loss = F.mean(F.square(model_y - data_y[:, None]))\n",
    "# `loss` is a scalar chainer variable\n",
    "assert isinstance(loss, chainer.Variable)\n",
    "print(\"loss\", loss)\n",
    "# calculating gradients d loss /d params is as simple as\n",
    "loss.backward()\n",
    "\n",
    "# we can inspect the gradient of loss with respect to W\n",
    "print(\"dloss/dW\", model.W.grad)"
   ]
  },
  {
   "cell_type": "markdown",
   "metadata": {},
   "source": [
    "Now that we know how to calculate gradients, we can code up a simple loop to perform gradient descent to train this model:\n",
    "\n",
    "(Hint: if you run into weird problems, maybe the state has been messed up and you can try re-runing all the code blocks from the beginning)"
   ]
  },
  {
   "cell_type": "code",
   "execution_count": 38,
   "metadata": {},
   "outputs": [
    {
     "name": "stdout",
     "output_type": "stream",
     "text": [
      "[[-0.15339437]] [-0.80424261]\n",
      "Itr 0 loss: variable(0.24137632548809052)\n",
      "[[-0.15078615]] [  1.58324838e-08]\n",
      "[[-0.14822228]] [  1.86264515e-09]\n",
      "[[-0.145702]] [  2.60770321e-08]\n",
      "[[-0.14322458]] [  2.51457095e-08]\n",
      "[[-0.14078929]] [  1.67638063e-08]\n",
      "[[-0.1383954]] [  1.86264515e-08]\n",
      "[[-0.13604221]] [  1.49011612e-08]\n",
      "[[-0.13372903]] [  8.38190317e-09]\n",
      "[[-0.13145518]] [  1.67638063e-08]\n",
      "[[-0.12922001]] [  3.07336450e-08]\n",
      "[[-0.12702283]] [ -4.28408384e-08]\n",
      "[[-0.12486301]] [  1.49011612e-08]\n",
      "[[-0.12273993]] [  1.11758709e-08]\n",
      "[[-0.12065294]] [  1.95577741e-08]\n",
      "[[-0.11860144]] [  4.65661287e-09]\n",
      "[[-0.11658482]] [  1.67638063e-08]\n",
      "[[-0.11460248]] [  1.95577741e-08]\n",
      "[[-0.11265385]] [  2.60770321e-08]\n",
      "[[-0.11073835]] [  2.14204192e-08]\n",
      "[[-0.10885543]] [  1.90921128e-08]\n",
      "[[-0.10700452]] [  1.16415322e-08]\n",
      "[[-0.10518508]] [  1.90921128e-08]\n",
      "[[-0.10339658]] [  1.86264515e-08]\n",
      "[[-0.1016385]] [  2.00234354e-08]\n",
      "[[-0.0999103]] [  2.51457095e-08]\n",
      "Itr 25 loss: variable(0.03983632102608681)\n",
      "[[-0.09821148]] [  1.49011612e-08]\n",
      "[[-0.09654155]] [  1.67638063e-08]\n",
      "[[-0.09490001]] [  2.00234354e-08]\n",
      "[[-0.0932864]] [  1.07102096e-08]\n",
      "[[-0.09170021]] [  1.02445483e-08]\n",
      "[[-0.090141]] [  2.28174031e-08]\n",
      "[[-0.08860829]] [  1.58324838e-08]\n",
      "[[-0.08710165]] [  1.44354999e-08]\n",
      "[[-0.08562064]] [  1.35041773e-08]\n",
      "[[-0.0841648]] [  9.31322575e-09]\n",
      "[[-0.08273372]] [  1.72294676e-08]\n",
      "[[-0.08132696]] [  1.95577741e-08]\n",
      "[[-0.07994413]] [  1.67638063e-08]\n",
      "[[-0.07858481]] [  1.16415322e-08]\n",
      "[[-0.07724861]] [  1.81607902e-08]\n",
      "[[-0.07593512]] [  2.00234354e-08]\n",
      "[[-0.07464397]] [  1.35041773e-08]\n",
      "[[-0.07337476]] [  1.30385160e-08]\n",
      "[[-0.07212715]] [  1.90921128e-08]\n",
      "[[-0.07090075]] [  1.90921128e-08]\n",
      "[[-0.0696952]] [  2.14204192e-08]\n",
      "[[-0.06851014]] [  2.00234354e-08]\n",
      "[[-0.06734525]] [  1.49011612e-08]\n",
      "[[-0.06620014]] [  1.58324838e-08]\n",
      "[[-0.06507452]] [  1.53668225e-08]\n",
      "Itr 50 loss: variable(0.02293562889099121)\n",
      "[[-0.06396803]] [  1.62981451e-08]\n",
      "[[-0.06288035]] [  1.53668225e-08]\n",
      "[[-0.06181118]] [  1.02445483e-08]\n",
      "[[-0.06076018]] [  1.90921128e-08]\n",
      "[[-0.05972705]] [  1.39698386e-08]\n",
      "[[-0.05871148]] [  2.23517418e-08]\n",
      "[[-0.0577132]] [  1.67638063e-08]\n",
      "[[-0.05673186]] [  9.77888703e-09]\n",
      "[[-0.05576724]] [  2.23517418e-08]\n",
      "[[-0.05481901]] [  1.72294676e-08]\n",
      "[[-0.05388689]] [  1.25728548e-08]\n",
      "[[-0.05297063]] [  1.62981451e-08]\n",
      "[[-0.05206995]] [  7.91624188e-09]\n",
      "[[-0.05118459]] [  2.09547579e-08]\n",
      "[[-0.05031428]] [  1.39698386e-08]\n",
      "[[-0.04945876]] [  1.02445483e-08]\n",
      "[[-0.04861779]] [  1.86264515e-08]\n",
      "[[-0.04779112]] [  1.44354999e-08]\n",
      "[[-0.04697851]] [  1.72294676e-08]\n",
      "[[-0.04617972]] [  1.81607902e-08]\n",
      "[[-0.04539452]] [  1.69966370e-08]\n",
      "[[-0.04462265]] [  1.30385160e-08]\n",
      "[[-0.04386392]] [  1.79279596e-08]\n",
      "[[-0.04311808]] [  1.76951289e-08]\n",
      "[[-0.04238493]] [  1.81607902e-08]\n",
      "Itr 75 loss: variable(0.01576583832502365)\n",
      "[[-0.04166424]] [  1.51339918e-08]\n",
      "[[-0.0409558]] [  1.58324838e-08]\n",
      "[[-0.04025942]] [  1.97906047e-08]\n",
      "[[-0.03957488]] [  1.79279596e-08]\n",
      "[[-0.03890196]] [  1.72294676e-08]\n",
      "[[-0.03824051]] [  1.67638063e-08]\n",
      "[[-0.0375903]] [  1.76951289e-08]\n",
      "[[-0.03695114]] [  1.46683306e-08]\n",
      "[[-0.03632285]] [  2.00234354e-08]\n",
      "[[-0.03570523]] [  2.21189111e-08]\n",
      "[[-0.03509811]] [  1.69966370e-08]\n",
      "[[-0.03450134]] [  4.88944352e-09]\n",
      "[[-0.03391469]] [  1.67638063e-08]\n",
      "[[-0.03333803]] [  1.58324838e-08]\n",
      "[[-0.03277116]] [  1.23400241e-08]\n",
      "[[-0.03221395]] [  1.93249434e-08]\n",
      "[[-0.03166621]] [  1.32713467e-08]\n",
      "[[-0.03112777]] [  2.21189111e-08]\n",
      "[[-0.03059849]] [  2.42143869e-08]\n",
      "[[-0.03007821]] [  1.37370080e-08]\n",
      "[[-0.02956678]] [  1.67638063e-08]\n",
      "[[-0.02906406]] [  1.97906047e-08]\n",
      "[[-0.02856987]] [  1.58324838e-08]\n",
      "[[-0.02808408]] [  1.72294676e-08]\n"
     ]
    },
    {
     "data": {
      "image/png": "[encoded data removed]",
      "text/plain": [
       "<Figure size 432x288 with 1 Axes>"
      ]
     },
     "metadata": {},
     "output_type": "display_data"
    },
    {
     "data": {
      "image/png": "[encoded data removed]",
      "text/plain": [
       "<Figure size 432x288 with 1 Axes>"
      ]
     },
     "metadata": {},
     "output_type": "display_data"
    }
   ],
   "source": [
    "# now we can perform gradient descent to improve this model\n",
    "model = L.Linear(in_size=1, out_size=1)\n",
    "losses = []\n",
    "\n",
    "for i in range(100):\n",
    "    model.cleargrads()\n",
    "    loss = F.mean(F.square(model(data_x[:, None]) - data_y[:, None]))\n",
    "    losses.append(float(loss.data))\n",
    "    ## *** YOUR CODE HERE TO PERFORM GRADIENT DESCENT ***\n",
    "    ## Hint: you could access gradients with model.W.grad, model.b.grad\n",
    "    ## Hint2: you could write data into a parameter with model.W.data[:] = some_numpy_array\n",
    "    ## Hint3: if your model doesn't learn, remember to try different learning rates\n",
    "    alpha = 0.1\n",
    "    beta = 0.5\n",
    "    loss.backward()\n",
    "    print(model.W.grad, model.b.grad)\n",
    "    model.W.data[:] -= alpha * model.W.grad\n",
    "    model.b.data[:] -= beta * model.b.grad\n",
    "    if i % 25 == 0:\n",
    "        print(\"Itr\", i, \"loss:\", loss)\n",
    "plt.plot(np.array(losses))\n",
    "plt.title(\"Learning curve\")\n",
    "plt.figure()\n",
    "plt.plot(data_x, model(data_x[:, None])[:,0].data, c='r')\n",
    "plt.scatter(data_x, data_y, c='b')\n",
    "_ = plt.title(\"Trained model fitness\")\n"
   ]
  },
  {
   "cell_type": "markdown",
   "metadata": {},
   "source": [
    "## Train your first deep model\n",
    "\n",
    "Now we have learned the basics of Chainer. We can use it to train a deep model to classify MNIST digits. We will train a model on the MNIST dataset because the dataset is small.\n",
    "\n",
    "First we load the data and see what the images look like:"
   ]
  },
  {
   "cell_type": "code",
   "execution_count": 39,
   "metadata": {
    "scrolled": false
   },
   "outputs": [
    {
     "name": "stdout",
     "output_type": "stream",
     "text": [
      "Downloading from http://yann.lecun.com/exdb/mnist/train-images-idx3-ubyte.gz...\n",
      "Downloading from http://yann.lecun.com/exdb/mnist/train-labels-idx1-ubyte.gz...\n",
      "Downloading from http://yann.lecun.com/exdb/mnist/t10k-images-idx3-ubyte.gz...\n",
      "Downloading from http://yann.lecun.com/exdb/mnist/t10k-labels-idx1-ubyte.gz...\n",
      "train[i][0] is the ith image that's flattened, and has shape: (784,)\n",
      "train[i][1] is the ith image's label, such as: 3\n"
     ]
    },
    {
     "data": {
      "image/png": "[encoded data removed]",
      "text/plain": [
       "<Figure size 432x288 with 1 Axes>"
      ]
     },
     "metadata": {},
     "output_type": "display_data"
    },
    {
     "data": {
      "image/png": "[encoded data removed]",
      "text/plain": [
       "<Figure size 432x288 with 1 Axes>"
      ]
     },
     "metadata": {},
     "output_type": "display_data"
    }
   ],
   "source": [
    "train, test = chainer.datasets.get_mnist()\n",
    "# use train[data_point_index] to access data\n",
    "print(\"train[i][0] is the ith image that's flattened, and has shape:\", train[12][0].shape)\n",
    "print(\"train[i][1] is the ith image's label, such as:\", train[12][1])\n",
    "# here we visualize two of them\n",
    "plt.imshow(train[12][0].reshape([28, 28,]))\n",
    "plt.title(\"Label: %s\" % train[12][1])\n",
    "plt.figure()\n",
    "plt.imshow(train[42][0].reshape([28, 28,]))\n",
    "_ = plt.title(\"Label: %s\" % train[42][1])"
   ]
  },
  {
   "cell_type": "markdown",
   "metadata": {},
   "source": [
    "Next we will provide some boilerplate code and train a linear classifier as an example:"
   ]
  },
  {
   "cell_type": "code",
   "execution_count": 40,
   "metadata": {},
   "outputs": [
    {
     "name": "stdout",
     "output_type": "stream",
     "text": [
      "accuracy: 0.0625; loss: 2.3995256424\n",
      "accuracy: 0.855; loss: 0.572501288652\n",
      "accuracy: 0.865; loss: 0.489410067797\n",
      "accuracy: 0.915; loss: 0.331575681567\n",
      "accuracy: 0.905; loss: 0.390198770761\n",
      "accuracy: 0.8975; loss: 0.345996794403\n",
      "accuracy: 0.8925; loss: 0.354796079993\n",
      "accuracy: 0.9025; loss: 0.397654454708\n",
      "accuracy: 0.9175; loss: 0.297877082229\n",
      "accuracy: 0.895; loss: 0.353705452085\n",
      "accuracy: 0.8975; loss: 0.356155474782\n",
      "accuracy: 0.9175; loss: 0.292846992016\n",
      "accuracy: 0.9175; loss: 0.338245746493\n",
      "accuracy: 0.91; loss: 0.369805401862\n",
      "accuracy: 0.9125; loss: 0.347719334662\n",
      "accuracy: 0.91; loss: 0.322849069238\n",
      "accuracy: 0.93; loss: 0.278481887579\n",
      "accuracy: 0.9025; loss: 0.374685810506\n",
      "accuracy: 0.9225; loss: 0.296917242408\n",
      "accuracy: 0.9225; loss: 0.309370807707\n",
      "accuracy: 0.93; loss: 0.267887926102\n",
      "accuracy: 0.9025; loss: 0.339716246128\n",
      "accuracy: 0.93; loss: 0.271315575838\n",
      "accuracy: 0.905; loss: 0.309431134462\n",
      "accuracy: 0.9125; loss: 0.306662265658\n",
      "accuracy: 0.9275; loss: 0.265926745236\n"
     ]
    }
   ],
   "source": [
    "def run(model, batchsize=16, num_epochs=2):\n",
    "    \n",
    "    optimizer = chainer.optimizers.Adam() # we will use chainer's Adam implementation instead of writing our own gradient based optimization\n",
    "    optimizer.setup(model)\n",
    "    \n",
    "    stats = defaultdict(lambda: deque(maxlen=25))\n",
    "    for epoch in range(num_epochs):\n",
    "        train_iter = chainer.iterators.SerialIterator(train, batchsize, repeat=False, shuffle=True)\n",
    "        test_iter = chainer.iterators.SerialIterator(test, batchsize, repeat=False, shuffle=False)\n",
    "        \n",
    "        for itr, batch in enumerate(train_iter):\n",
    "            xs = np.concatenate([datum[0][None, :] for datum in batch])\n",
    "            ys = np.array([datum[1] for datum in batch])\n",
    "\n",
    "            logits = model(xs)\n",
    "\n",
    "            loss = F.softmax_cross_entropy(logits, ys)\n",
    "            model.cleargrads()\n",
    "            loss.backward()\n",
    "            optimizer.update()\n",
    "            \n",
    "            # calculate stats\n",
    "            stats[\"loss\"].append(float(loss.data))\n",
    "            stats[\"accuracy\"].append(float((logits.data.argmax(1) == ys).sum() / batchsize))\n",
    "            if itr % 300 == 0:\n",
    "                print(\"; \".join(\"%s: %s\" % (k, np.mean(vs)) for k, vs in stats.items()))\n",
    "\n",
    "# try a simple linear model\n",
    "run(L.Linear(None, 10))"
   ]
  },
  {
   "cell_type": "markdown",
   "metadata": {},
   "source": [
    "Next we will try to improve performance by training an MLP instead. A partial implementation is provided for you to fill in:"
   ]
  },
  {
   "cell_type": "code",
   "execution_count": 44,
   "metadata": {},
   "outputs": [
    {
     "name": "stdout",
     "output_type": "stream",
     "text": [
      "accuracy: 0.0625; loss: 2.3214328289\n",
      "accuracy: 0.825; loss: 0.639228367805\n",
      "accuracy: 0.8975; loss: 0.435934076309\n",
      "accuracy: 0.8975; loss: 0.400062482953\n",
      "accuracy: 0.8775; loss: 0.427791723609\n",
      "accuracy: 0.8925; loss: 0.404910410941\n",
      "accuracy: 0.905; loss: 0.322161153555\n",
      "accuracy: 0.86; loss: 0.41710855931\n",
      "accuracy: 0.9125; loss: 0.33621507138\n",
      "accuracy: 0.895; loss: 0.346429353058\n",
      "accuracy: 0.89; loss: 0.344317937791\n",
      "accuracy: 0.91; loss: 0.34697104454\n",
      "accuracy: 0.9425; loss: 0.249506614208\n",
      "accuracy: 0.915; loss: 0.362732505798\n",
      "accuracy: 0.915; loss: 0.264243054986\n",
      "accuracy: 0.905; loss: 0.295511645079\n",
      "accuracy: 0.915; loss: 0.251680854857\n",
      "accuracy: 0.9425; loss: 0.240340967774\n",
      "accuracy: 0.915; loss: 0.277040930986\n",
      "accuracy: 0.91; loss: 0.346821934283\n"
     ]
    },
    {
     "ename": "KeyboardInterrupt",
     "evalue": "",
     "output_type": "error",
     "traceback": [
      "\u001b[0;31m---------------------------------------------------------------------------\u001b[0m",
      "\u001b[0;31mKeyboardInterrupt\u001b[0m                         Traceback (most recent call last)",
      "\u001b[0;32m<ipython-input-44-57b162f38e56>\u001b[0m in \u001b[0;36m<module>\u001b[0;34m()\u001b[0m\n\u001b[1;32m     19\u001b[0m         \u001b[0;32mreturn\u001b[0m \u001b[0mx3\u001b[0m\u001b[0;34m\u001b[0m\u001b[0m\n\u001b[1;32m     20\u001b[0m         \u001b[0;31m#raise NotImplementedError()\u001b[0m\u001b[0;34m\u001b[0m\u001b[0;34m\u001b[0m\u001b[0m\n\u001b[0;32m---> 21\u001b[0;31m \u001b[0mrun\u001b[0m\u001b[0;34m(\u001b[0m\u001b[0mMLP\u001b[0m\u001b[0;34m(\u001b[0m\u001b[0;36m200\u001b[0m\u001b[0;34m,\u001b[0m \u001b[0;36m10\u001b[0m\u001b[0;34m)\u001b[0m\u001b[0;34m)\u001b[0m\u001b[0;34m\u001b[0m\u001b[0m\n\u001b[0m",
      "\u001b[0;32m<ipython-input-40-06778ee8538a>\u001b[0m in \u001b[0;36mrun\u001b[0;34m(model, batchsize, num_epochs)\u001b[0m\n\u001b[1;32m     18\u001b[0m             \u001b[0mmodel\u001b[0m\u001b[0;34m.\u001b[0m\u001b[0mcleargrads\u001b[0m\u001b[0;34m(\u001b[0m\u001b[0;34m)\u001b[0m\u001b[0;34m\u001b[0m\u001b[0m\n\u001b[1;32m     19\u001b[0m             \u001b[0mloss\u001b[0m\u001b[0;34m.\u001b[0m\u001b[0mbackward\u001b[0m\u001b[0;34m(\u001b[0m\u001b[0;34m)\u001b[0m\u001b[0;34m\u001b[0m\u001b[0m\n\u001b[0;32m---> 20\u001b[0;31m             \u001b[0moptimizer\u001b[0m\u001b[0;34m.\u001b[0m\u001b[0mupdate\u001b[0m\u001b[0;34m(\u001b[0m\u001b[0;34m)\u001b[0m\u001b[0;34m\u001b[0m\u001b[0m\n\u001b[0m\u001b[1;32m     21\u001b[0m \u001b[0;34m\u001b[0m\u001b[0m\n\u001b[1;32m     22\u001b[0m             \u001b[0;31m# calculate stats\u001b[0m\u001b[0;34m\u001b[0m\u001b[0;34m\u001b[0m\u001b[0m\n",
      "\u001b[0;32m~/miniconda3/envs/deeprlbootcamp/lib/python3.5/site-packages/chainer/optimizer.py\u001b[0m in \u001b[0;36mupdate\u001b[0;34m(self, lossfun, *args, **kwds)\u001b[0m\n\u001b[1;32m    539\u001b[0m         \u001b[0mself\u001b[0m\u001b[0;34m.\u001b[0m\u001b[0mt\u001b[0m \u001b[0;34m+=\u001b[0m \u001b[0;36m1\u001b[0m\u001b[0;34m\u001b[0m\u001b[0m\n\u001b[1;32m    540\u001b[0m         \u001b[0;32mfor\u001b[0m \u001b[0mparam\u001b[0m \u001b[0;32min\u001b[0m \u001b[0mself\u001b[0m\u001b[0;34m.\u001b[0m\u001b[0mtarget\u001b[0m\u001b[0;34m.\u001b[0m\u001b[0mparams\u001b[0m\u001b[0;34m(\u001b[0m\u001b[0;34m)\u001b[0m\u001b[0;34m:\u001b[0m\u001b[0;34m\u001b[0m\u001b[0m\n\u001b[0;32m--> 541\u001b[0;31m             \u001b[0mparam\u001b[0m\u001b[0;34m.\u001b[0m\u001b[0mupdate\u001b[0m\u001b[0;34m(\u001b[0m\u001b[0;34m)\u001b[0m\u001b[0;34m\u001b[0m\u001b[0m\n\u001b[0m\u001b[1;32m    542\u001b[0m \u001b[0;34m\u001b[0m\u001b[0m\n\u001b[1;32m    543\u001b[0m     \u001b[0;32mdef\u001b[0m \u001b[0muse_cleargrads\u001b[0m\u001b[0;34m(\u001b[0m\u001b[0mself\u001b[0m\u001b[0;34m,\u001b[0m \u001b[0muse\u001b[0m\u001b[0;34m=\u001b[0m\u001b[0;32mTrue\u001b[0m\u001b[0;34m)\u001b[0m\u001b[0;34m:\u001b[0m\u001b[0;34m\u001b[0m\u001b[0m\n",
      "\u001b[0;32m~/miniconda3/envs/deeprlbootcamp/lib/python3.5/site-packages/chainer/variable.py\u001b[0m in \u001b[0;36mupdate\u001b[0;34m(self)\u001b[0m\n\u001b[1;32m   1010\u001b[0m         \"\"\"\n\u001b[1;32m   1011\u001b[0m         \u001b[0;32mif\u001b[0m \u001b[0mself\u001b[0m\u001b[0;34m.\u001b[0m\u001b[0mupdate_rule\u001b[0m \u001b[0;32mis\u001b[0m \u001b[0;32mnot\u001b[0m \u001b[0;32mNone\u001b[0m\u001b[0;34m:\u001b[0m\u001b[0;34m\u001b[0m\u001b[0m\n\u001b[0;32m-> 1012\u001b[0;31m             \u001b[0mself\u001b[0m\u001b[0;34m.\u001b[0m\u001b[0mupdate_rule\u001b[0m\u001b[0;34m.\u001b[0m\u001b[0mupdate\u001b[0m\u001b[0;34m(\u001b[0m\u001b[0mself\u001b[0m\u001b[0;34m)\u001b[0m\u001b[0;34m\u001b[0m\u001b[0m\n\u001b[0m\u001b[1;32m   1013\u001b[0m \u001b[0;34m\u001b[0m\u001b[0m\n\u001b[1;32m   1014\u001b[0m \u001b[0;34m\u001b[0m\u001b[0m\n",
      "\u001b[0;32m~/miniconda3/envs/deeprlbootcamp/lib/python3.5/site-packages/chainer/optimizer.py\u001b[0m in \u001b[0;36mupdate\u001b[0;34m(self, param)\u001b[0m\n\u001b[1;32m    187\u001b[0m         \u001b[0mself\u001b[0m\u001b[0;34m.\u001b[0m\u001b[0mt\u001b[0m \u001b[0;34m+=\u001b[0m \u001b[0;36m1\u001b[0m\u001b[0;34m\u001b[0m\u001b[0m\n\u001b[1;32m    188\u001b[0m         \u001b[0mself\u001b[0m\u001b[0;34m.\u001b[0m\u001b[0m_prepare\u001b[0m\u001b[0;34m(\u001b[0m\u001b[0mparam\u001b[0m\u001b[0;34m)\u001b[0m\u001b[0;34m\u001b[0m\u001b[0m\n\u001b[0;32m--> 189\u001b[0;31m         \u001b[0;32mfor\u001b[0m \u001b[0mhook\u001b[0m \u001b[0;32min\u001b[0m \u001b[0msix\u001b[0m\u001b[0;34m.\u001b[0m\u001b[0mitervalues\u001b[0m\u001b[0;34m(\u001b[0m\u001b[0mself\u001b[0m\u001b[0;34m.\u001b[0m\u001b[0m_hooks\u001b[0m\u001b[0;34m)\u001b[0m\u001b[0;34m:\u001b[0m\u001b[0;34m\u001b[0m\u001b[0m\n\u001b[0m\u001b[1;32m    190\u001b[0m             \u001b[0mhook\u001b[0m\u001b[0;34m(\u001b[0m\u001b[0mself\u001b[0m\u001b[0;34m,\u001b[0m \u001b[0mparam\u001b[0m\u001b[0;34m)\u001b[0m\u001b[0;34m\u001b[0m\u001b[0m\n\u001b[1;32m    191\u001b[0m         \u001b[0mself\u001b[0m\u001b[0;34m.\u001b[0m\u001b[0mupdate_core\u001b[0m\u001b[0;34m(\u001b[0m\u001b[0mparam\u001b[0m\u001b[0;34m)\u001b[0m\u001b[0;34m\u001b[0m\u001b[0m\n",
      "\u001b[0;31mKeyboardInterrupt\u001b[0m: "
     ]
    }
   ],
   "source": [
    "class MLP(chainer.Chain):\n",
    "\n",
    "    def __init__(self, n_units, n_out):\n",
    "        super(MLP, self).__init__()\n",
    "        with self.init_scope():\n",
    "            # the size of the inputs to each layer will be inferred\n",
    "            self.l1 = L.Linear(None, n_units)  # n_in -> n_units\n",
    "            self.l2 = L.Linear(None, n_units)  # n_units -> n_units\n",
    "            self.l3 = L.Linear(None, n_out)  # n_units -> n_out\n",
    "\n",
    "    def __call__(self, x):\n",
    "        # *** YOUR CODE HERE TO BUILD AN MLP W/ self.l1, self.l2, self.l3 ***\n",
    "        # \n",
    "        # Hint: you should make use of non-linearities / activation functions\n",
    "        #     https://docs.chainer.org/en/stable/reference/functions.html#activation-functions\n",
    "        x1 = F.elu(self.l1(x))\n",
    "        x2 = F.elu(self.l2(x))\n",
    "        x3 = self.l3(x)\n",
    "        return x3\n",
    "        #raise NotImplementedError()\n",
    "run(MLP(200, 10))"
   ]
  },
  {
   "cell_type": "markdown",
   "metadata": {},
   "source": [
    "Next you should try to implement logging test loss and see if the model is overfitting."
   ]
  },
  {
   "cell_type": "code",
   "execution_count": 45,
   "metadata": {},
   "outputs": [
    {
     "name": "stdout",
     "output_type": "stream",
     "text": [
      "accuracy: 0.125; test_acc: 0.125; test_loss: 2.30399014473; loss: 2.43425369263\n",
      "accuracy: 0.845; test_acc: 0.83; test_loss: 0.753460991383; loss: 0.597888649702\n",
      "accuracy: 0.87; test_acc: 0.8125; test_loss: 0.625917650461; loss: 0.481875294447\n",
      "accuracy: 0.8475; test_acc: 0.8475; test_loss: 0.557654769421; loss: 0.492092052698\n",
      "accuracy: 0.91; test_acc: 0.835; test_loss: 0.568565974832; loss: 0.382335636914\n",
      "accuracy: 0.925; test_acc: 0.8475; test_loss: 0.499661192894; loss: 0.315196428001\n",
      "accuracy: 0.8725; test_acc: 0.84; test_loss: 0.484053199887; loss: 0.419922199845\n",
      "accuracy: 0.8825; test_acc: 0.855; test_loss: 0.471415094137; loss: 0.338159259558\n",
      "accuracy: 0.8875; test_acc: 0.8375; test_loss: 0.482753053904; loss: 0.39384701252\n",
      "accuracy: 0.9; test_acc: 0.855; test_loss: 0.486977202892; loss: 0.360136245489\n",
      "accuracy: 0.92; test_acc: 0.8575; test_loss: 0.470870311856; loss: 0.308524648249\n",
      "accuracy: 0.9325; test_acc: 0.87; test_loss: 0.448206319213; loss: 0.269356169701\n",
      "accuracy: 0.93; test_acc: 0.8575; test_loss: 0.459415253997; loss: 0.258591499031\n",
      "accuracy: 0.94; test_acc: 0.86; test_loss: 0.447783063054; loss: 0.236609972268\n",
      "accuracy: 0.925; test_acc: 0.86; test_loss: 0.456103388071; loss: 0.249454257786\n",
      "accuracy: 0.9075; test_acc: 0.86; test_loss: 0.459054729342; loss: 0.310023268163\n",
      "accuracy: 0.915; test_acc: 0.86; test_loss: 0.444113838077; loss: 0.287407403588\n",
      "accuracy: 0.9275; test_acc: 0.8675; test_loss: 0.432398123741; loss: 0.258631386459\n",
      "accuracy: 0.92; test_acc: 0.865; test_loss: 0.4224484694; loss: 0.271876696646\n",
      "accuracy: 0.9175; test_acc: 0.8675; test_loss: 0.432335815132; loss: 0.329212093949\n",
      "accuracy: 0.905; test_acc: 0.8625; test_loss: 0.437020598352; loss: 0.281328542233\n",
      "accuracy: 0.9275; test_acc: 0.865; test_loss: 0.433245746493; loss: 0.214150117338\n",
      "accuracy: 0.91; test_acc: 0.86; test_loss: 0.441170894206; loss: 0.286444657445\n",
      "accuracy: 0.93; test_acc: 0.8725; test_loss: 0.43286451757; loss: 0.287753073871\n",
      "accuracy: 0.9375; test_acc: 0.87; test_loss: 0.425882874429; loss: 0.224032746255\n",
      "accuracy: 0.9125; test_acc: 0.8725; test_loss: 0.430919907689; loss: 0.309564278424\n"
     ]
    }
   ],
   "source": [
    "def better_run(model, batchsize=16, num_epochs=2):\n",
    "\n",
    "    optimizer = chainer.optimizers.Adam() # we will use chainer's Adam implementation instead of writing our own gradient based optimization\n",
    "    optimizer.setup(model)\n",
    "    \n",
    "    stats = defaultdict(lambda: deque(maxlen=25))\n",
    "    for epoch in range(num_epochs):\n",
    "        train_iter = chainer.iterators.SerialIterator(train, batchsize, repeat=False, shuffle=True)\n",
    "        for itr, batch in enumerate(train_iter):\n",
    "            xs = np.concatenate([datum[0][None, :] for datum in batch])\n",
    "            ys = np.array([datum[1] for datum in batch])\n",
    "\n",
    "            logits = model(xs)\n",
    "\n",
    "            loss = F.softmax_cross_entropy(logits, ys)\n",
    "            model.cleargrads()\n",
    "            loss.backward()\n",
    "            optimizer.update()\n",
    "            \n",
    "            # calculate stats\n",
    "            stats[\"loss\"].append(float(loss.data))\n",
    "            stats[\"accuracy\"].append(float((logits.data.argmax(1) == ys).sum() / batchsize))\n",
    "            if itr % 300 == 0:\n",
    "                test_iter = chainer.iterators.SerialIterator(test, batchsize, repeat=False, shuffle=False)\n",
    "                # *** YOUR CODE implement logging of stats on test set ***\n",
    "                for itr_test, batch_test in enumerate(test_iter):\n",
    "                    xs = np.concatenate([datum[0][None, :] for datum in batch_test])\n",
    "                    ys = np.array([datum[1] for datum in batch_test])\n",
    "                    logits = model(xs)\n",
    "                    loss = F.softmax_cross_entropy(logits, ys)\n",
    "                    stats[\"test_loss\"].append(float(loss.data))\n",
    "                    stats[\"test_acc\"].append(float((logits.data.argmax(1)==ys).sum()/batchsize))\n",
    "                print(\"; \".join(\"%s: %s\" % (k, np.mean(vs)) for k, vs in stats.items()))\n",
    "\n",
    "better_run(MLP(200, 10))"
   ]
  },
  {
   "cell_type": "markdown",
   "metadata": {},
   "source": [
    "Try different variants!\n",
    "\n",
    "- Does using a ConvNet improve performance (reduce overfitting?)\n",
    "- Try changing the learning rate and observe the effect\n",
    "- Does the model train if you give it correlated gradients? (consecutively sample many batches of \"1\", then many batches of \"2\", ... etc"
   ]
  }
 ],
 "metadata": {
  "kernelspec": {
   "display_name": "Python 3",
   "language": "python",
   "name": "python3"
  },
  "language_info": {
   "codemirror_mode": {
    "name": "ipython",
    "version": 3
   },
   "file_extension": ".py",
   "mimetype": "text/x-python",
   "name": "python",
   "nbconvert_exporter": "python",
   "pygments_lexer": "ipython3",
   "version": "3.5.3"
  }
 },
 "nbformat": 4,
 "nbformat_minor": 1
}
